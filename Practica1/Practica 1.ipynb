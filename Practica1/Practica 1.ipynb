{
 "cells": [
  {
   "cell_type": "markdown",
   "metadata": {},
   "source": [
    "# Lab 1\n",
    "\n",
    "### Contents:\n",
    "- Pandas DataFrame\n",
    "- Line Plot\n",
    "- Matplotlib subplots\n",
    "- Two Y-axis plot\n",
    "- Histograms\n",
    "\n",
    "soloINFORMATICOSyque!"
   ]
  },
  {
   "cell_type": "markdown",
   "metadata": {},
   "source": [
    "### Pandas Dataframe"
   ]
  },
  {
   "cell_type": "markdown",
   "metadata": {},
   "source": [
    "Installation: `pip install pandas` or `conda install pandas`\n",
    "\n",
    "Dataframe: A dataframe is data structure that contains a \"table\". \n",
    "\n",
    "There are multiple ways to create a Dataframe:\n",
    "- from a csv file\n",
    "- from a json\n",
    "- from sql database\n",
    "- from arrays\n",
    "- etc\n",
    "\n",
    "A Dataframe allows us to query our data and perform operations like sum, mean, joins, etc."
   ]
  },
  {
   "cell_type": "code",
   "execution_count": 1,
   "metadata": {},
   "outputs": [],
   "source": [
    "import pandas as pd\n",
    "import matplotlib.pyplot as plt\n",
    "import datetime"
   ]
  },
  {
   "cell_type": "markdown",
   "metadata": {},
   "source": [
    "You can go to the 10 minute pandas guide: https://pandas.pydata.org/pandas-docs/stable/getting_started/10min.html\n",
    "to learn how to query and perform operations on dataframes\n",
    "\n",
    "Here we read a csv file and then use `DataFrame.head()` to take a look at the first five elements of the dataframe"
   ]
  },
  {
   "cell_type": "code",
   "execution_count": 2,
   "metadata": {},
   "outputs": [
    {
     "data": {
      "text/html": [
       "<div>\n",
       "<style scoped>\n",
       "    .dataframe tbody tr th:only-of-type {\n",
       "        vertical-align: middle;\n",
       "    }\n",
       "\n",
       "    .dataframe tbody tr th {\n",
       "        vertical-align: top;\n",
       "    }\n",
       "\n",
       "    .dataframe thead th {\n",
       "        text-align: right;\n",
       "    }\n",
       "</style>\n",
       "<table border=\"1\" class=\"dataframe\">\n",
       "  <thead>\n",
       "    <tr style=\"text-align: right;\">\n",
       "      <th></th>\n",
       "      <th>Source</th>\n",
       "      <th>Date</th>\n",
       "      <th>Mean</th>\n",
       "    </tr>\n",
       "  </thead>\n",
       "  <tbody>\n",
       "    <tr>\n",
       "      <th>0</th>\n",
       "      <td>GCAG</td>\n",
       "      <td>2016-12-06</td>\n",
       "      <td>0.7895</td>\n",
       "    </tr>\n",
       "    <tr>\n",
       "      <th>1</th>\n",
       "      <td>GISTEMP</td>\n",
       "      <td>2016-12-06</td>\n",
       "      <td>0.8100</td>\n",
       "    </tr>\n",
       "    <tr>\n",
       "      <th>2</th>\n",
       "      <td>GCAG</td>\n",
       "      <td>2016-11-06</td>\n",
       "      <td>0.7504</td>\n",
       "    </tr>\n",
       "    <tr>\n",
       "      <th>3</th>\n",
       "      <td>GISTEMP</td>\n",
       "      <td>2016-11-06</td>\n",
       "      <td>0.9300</td>\n",
       "    </tr>\n",
       "    <tr>\n",
       "      <th>4</th>\n",
       "      <td>GCAG</td>\n",
       "      <td>2016-10-06</td>\n",
       "      <td>0.7292</td>\n",
       "    </tr>\n",
       "  </tbody>\n",
       "</table>\n",
       "</div>"
      ],
      "text/plain": [
       "    Source        Date    Mean\n",
       "0     GCAG  2016-12-06  0.7895\n",
       "1  GISTEMP  2016-12-06  0.8100\n",
       "2     GCAG  2016-11-06  0.7504\n",
       "3  GISTEMP  2016-11-06  0.9300\n",
       "4     GCAG  2016-10-06  0.7292"
      ]
     },
     "execution_count": 2,
     "metadata": {},
     "output_type": "execute_result"
    }
   ],
   "source": [
    "data = pd.read_csv(\"/home/diego/Documents/Diploma Data Science/Practica 1/monthly_csv.csv\")\n",
    "data.head()"
   ]
  },
  {
   "cell_type": "markdown",
   "metadata": {},
   "source": [
    "Now let's filter out the dataframe to only contain meassurements from GCAG source and then, convert the date string to a datetime object\n",
    "\n",
    "Datetime is a python library to handle dates and it is compatible with matplotlib."
   ]
  },
  {
   "cell_type": "code",
   "execution_count": 3,
   "metadata": {},
   "outputs": [
    {
     "name": "stderr",
     "output_type": "stream",
     "text": [
      "/home/diego/anaconda3/lib/python3.7/site-packages/pandas/core/generic.py:5096: SettingWithCopyWarning: \n",
      "A value is trying to be set on a copy of a slice from a DataFrame.\n",
      "Try using .loc[row_indexer,col_indexer] = value instead\n",
      "\n",
      "See the caveats in the documentation: http://pandas.pydata.org/pandas-docs/stable/indexing.html#indexing-view-versus-copy\n",
      "  self[name] = value\n"
     ]
    }
   ],
   "source": [
    "gcag = data[data.Source == \"GCAG\"]\n",
    "gcag.Date = pd.to_datetime(data.Date)"
   ]
  },
  {
   "cell_type": "markdown",
   "metadata": {},
   "source": [
    "### LinePlots\n",
    "\n",
    "Let's create our first lineplot using data from our dataframe."
   ]
  },
  {
   "cell_type": "code",
   "execution_count": null,
   "metadata": {},
   "outputs": [],
   "source": [
    "fig, ax = plt.subplots(figsize=(25, 10))\n",
    "ax.plot(gcag.Date, gcag.Mean)\n",
    "ax.legend(['GCAG'])\n",
    "plt.ylabel(\"Temperature (C)\")\n",
    "plt.title(\"Global Mean Temperature Anomalies\")\n",
    "plt.show()"
   ]
  },
  {
   "cell_type": "markdown",
   "metadata": {},
   "source": [
    "Let's break down what the code above does:\n",
    "\n",
    "`plt.subplots()` creates a Figure and an Axes object. Figure is the object that contains all of our visuals, title, labels, etc and it can contain many Axes, wich are the objects that contain our actual visual elements. like the line plot.\n",
    "\n",
    "When we call `ax.plot()` we are creating a line plot that will be added to our `ax` object. `ax.plot()` takes at least two array-like arguments. The first being the data for the X axis and the second is the data for the Y axis. In our case these are the dates and mean columns from the dataframe.\n",
    "\n",
    "Now with `ax.legend()` we define a name of our data. In this case there is only one dataset wich is the GCAG station temperatures.\n",
    "\n",
    "Then `plt.ylabel()` sets the label for Y axis and `plt.title()` sets the graph title.\n",
    "\n",
    "Finally to show everything we have added to our figure, we have to call `plt.show()`"
   ]
  },
  {
   "cell_type": "markdown",
   "metadata": {},
   "source": [
    "#### We can also plot more datasets in the same plot. Let's add the data from GISTEMP station to check if they are similar."
   ]
  },
  {
   "cell_type": "code",
   "execution_count": null,
   "metadata": {},
   "outputs": [],
   "source": [
    "gistemp = data[data.Source == \"GISTEMP\"]\n",
    "gistemp.Date = pd.to_datetime(gistemp.Date)"
   ]
  },
  {
   "cell_type": "code",
   "execution_count": null,
   "metadata": {},
   "outputs": [],
   "source": [
    "fig, ax = plt.subplots(figsize=(25, 10))\n",
    "ax.plot(gcag.Date, gcag.Mean)\n",
    "ax.plot(gistemp.Date, gistemp.Mean)\n",
    "ax.legend(['GCAG','GISTEMP'])\n",
    "plt.ylabel(\"Temperature (C)\")\n",
    "plt.title(\"Global Mean Temperature Anomalies\")\n",
    "plt.show()"
   ]
  },
  {
   "cell_type": "markdown",
   "metadata": {},
   "source": [
    "## Exercise 1: \n",
    "\n",
    "#### Read the global CO2 emmisions dataset but this time make an Area Plot showing the increase in CO2 emission each year.\n",
    "\n",
    "File is called `co2-gr-gl_csv.csv`\n",
    "\n",
    "#### An Area Plot is the same as a Line Plot but it has the area under the curve painted.\n",
    "\n",
    "To create an area plot in matplotlib use `ax.fill_between(x_data, base_line, y_data)`. This method will paint the area under the curve from base:"
   ]
  },
  {
   "cell_type": "markdown",
   "metadata": {},
   "source": [
    "### Subplots\n",
    "\n",
    "We can have more than one plot per figure in matplotlib. This can be helpful to plot data that is similar and compare. Lets make a plot using the temperature, glacier volume and sea level datasets."
   ]
  },
  {
   "cell_type": "code",
   "execution_count": null,
   "metadata": {},
   "outputs": [],
   "source": [
    "glaciers = pd.read_csv(\"/home/diego/Documents/Diploma Data Science/Practica 1/glaciers_csv.csv\")\n",
    "glaciers.head()"
   ]
  },
  {
   "cell_type": "code",
   "execution_count": null,
   "metadata": {},
   "outputs": [],
   "source": [
    "sea_level = pd.read_csv(\"/home/diego/Documents/Diploma Data Science/Practica 1/epa-sea-level_csv.csv\")\n",
    "sea_level.Year = pd.to_datetime(sea_level.Year)\n",
    "sea_level.head()"
   ]
  },
  {
   "cell_type": "code",
   "execution_count": null,
   "metadata": {},
   "outputs": [],
   "source": [
    "fig, (ax1, ax2, ax3) = plt.subplots(3,1,figsize=(25, 10))\n",
    "ax1.plot(gcag.Date, gcag.Mean)\n",
    "ax1.legend(['GCAG'])\n",
    "ax1.set_ylabel(\"Temperature (C)\")\n",
    "ax2.plot(sea_level.Year, sea_level[\"CSIRO Adjusted Sea Level\"])\n",
    "ax2.set_ylabel(\"Sea level\")\n",
    "ax2.legend(['CSIRO Adjusted Sea Level'])\n",
    "ax3.plot(glaciers.Year, glaciers[\"Mean cumulative mass balance\"])\n",
    "ax3.legend(['Mean cumulative mass balance'])\n",
    "ax3.set_ylabel(\"Glacier Mass Balance\")\n",
    "plt.show()"
   ]
  },
  {
   "cell_type": "markdown",
   "metadata": {},
   "source": [
    "## Exercise 2:\n",
    "\n",
    "#### Add CO2 emissions to the previous plot below glacier mass balance"
   ]
  },
  {
   "cell_type": "markdown",
   "metadata": {},
   "source": [
    "### Double Y-axis plot\n",
    "\n",
    "We can have two x-axis or y-axis on the same plot. This could be useful for comparing data that shares the same axis or to display different scales for a variable, like logaritmic scales, degree and radians, etc.\n",
    "\n",
    "To create a double Y axis plot we use the `twinx()` function, that creates a twin axis that shares the x-axis."
   ]
  },
  {
   "cell_type": "code",
   "execution_count": null,
   "metadata": {},
   "outputs": [],
   "source": [
    "fig, ax1 = plt.subplots(figsize=(25, 10))\n",
    "line1 = ax1.plot(gcag.Date, gcag.Mean)\n",
    "ax1.set_ylabel(\"Temperature (C)\")\n",
    "ax2 = ax1.twinx()\n",
    "line2 = ax2.plot(sea_level.Year, sea_level[\"CSIRO Adjusted Sea Level\"], 'r')\n",
    "ax2.set_ylabel(\"Sea level\")\n",
    "ax2.legend(line1+line2,['GCAG', 'Adjusted Sea Level'])"
   ]
  },
  {
   "cell_type": "markdown",
   "metadata": {},
   "source": [
    "### Histograms\n",
    "\n",
    "Histograms are a kind of bar plot that shows frequencies of a variable. It is used to show distributions and helps us to better understand our data.\n",
    "\n",
    "For this example lets use another dataset having total emissions of CO2 by country. File is called `nation.1751_2014.csv`"
   ]
  },
  {
   "cell_type": "code",
   "execution_count": null,
   "metadata": {},
   "outputs": [],
   "source": [
    "co2 = pd.read_csv(\"./nation.1751_2014.csv\")\n",
    "co2.head()"
   ]
  },
  {
   "cell_type": "markdown",
   "metadata": {},
   "source": [
    "In this example we are going to plot the histogram of CO2 emissions of all countries for year 2014. So first we need to filter our dataframe to only contain year 2014."
   ]
  },
  {
   "cell_type": "code",
   "execution_count": null,
   "metadata": {},
   "outputs": [],
   "source": [
    "year2014 = co2[co2.Year == 2014]"
   ]
  },
  {
   "cell_type": "code",
   "execution_count": null,
   "metadata": {},
   "outputs": [],
   "source": [
    "plt.figure(figsize=(20,10))\n",
    "plt.hist(year2014[\"Total CO2 emissions from fossil-fuels and cement production (thousand metric tons of C)\"], bins=30)\n",
    "plt.ylabel(\"Number of countries\")\n",
    "plt.xlabel(\"CO2 Emissions (Tons x1000)\")"
   ]
  },
  {
   "cell_type": "markdown",
   "metadata": {},
   "source": [
    "## Exercise 3\n",
    "\n",
    "Create a histogram from the per capita emissions for each country for a year of your choosing. Play with the bin number to see what it means."
   ]
  }
 ],
 "metadata": {
  "kernelspec": {
   "display_name": "Python 3",
   "language": "python",
   "name": "python3"
  },
  "language_info": {
   "codemirror_mode": {
    "name": "ipython",
    "version": 3
   },
   "file_extension": ".py",
   "mimetype": "text/x-python",
   "name": "python",
   "nbconvert_exporter": "python",
   "pygments_lexer": "ipython3",
   "version": "3.7.3"
  }
 },
 "nbformat": 4,
 "nbformat_minor": 4
}
